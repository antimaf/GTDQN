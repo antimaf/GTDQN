{
 "cells": [
  {
   "cell_type": "markdown",
   "metadata": {},
   "source": [
    "# GT-DQN Training on Google Colab\n",
    "\n",
    "This notebook runs the GT-DQN poker training on Google Colab's GPU.\n",
    "\n",
    "## Setup Steps:\n",
    "1. Upload this notebook to Google Colab\n",
    "2. Enable GPU: Runtime → Change runtime type → GPU\n",
    "3. Run all cells in order"
   ]
  },
  {
   "cell_type": "code",
   "metadata": {
    "id": "check_gpu"
   },
   "source": [
    "# Verify GPU is available\n",
    "import torch\n",
    "print(f\"GPU available: {torch.cuda.is_available()}\")\n",
    "if torch.cuda.is_available():\n",
    "    print(f\"GPU device: {torch.cuda.get_device_name(0)}\")"
   ]
  },
  {
   "cell_type": "code",
   "metadata": {
    "id": "clone_repo"
   },
   "source": [
    "# Clone repository and install dependencies\n",
    "!git clone https://github.com/antimaf/GTDQN\n",
    "%cd GTDQN\n",
    "!pip install -r requirements.txt"
   ]
  },
  {
   "cell_type": "code",
   "metadata": {
    "id": "setup_drive"
   },
   "source": [
    "# Mount Google Drive for checkpoint saving\n",
    "from google.colab import drive\n",
    "drive.mount('/content/drive')\n",
    "\n",
    "# Create checkpoint directory\n",
    "CHECKPOINT_DIR = '/content/drive/MyDrive/GTDQN_checkpoints'\n",
    "!mkdir -p {CHECKPOINT_DIR}"
   ]
  },
  {
   "cell_type": "code",
   "metadata": {
    "id": "training_utils"
   },
   "source": [
    "import os\n",
    "import time\n",
    "from datetime import datetime\n",
    "\n",
    "def save_checkpoint(trainer, episode, metrics, checkpoint_dir):\n",
    "    \"\"\"Save training checkpoint with metadata\"\"\"\n",
    "    timestamp = datetime.now().strftime('%Y%m%d_%H%M%S')\n",
    "    checkpoint = {\n",
    "        'episode': episode,\n",
    "        'model_state_dict': trainer.policy_net.state_dict(),\n",
    "        'optimizer_state_dict': trainer.optimizer.state_dict(),\n",
    "        'metrics': metrics\n",
    "    }\n",
    "    path = os.path.join(checkpoint_dir, f'checkpoint_ep{episode}_{timestamp}.pt')\n",
    "    torch.save(checkpoint, path)\n",
    "    print(f\"Saved checkpoint at episode {episode} to {path}\")\n",
    "\n",
    "def load_latest_checkpoint(trainer, checkpoint_dir):\n",
    "    \"\"\"Load most recent checkpoint if exists\"\"\"\n",
    "    checkpoints = sorted([\n",
    "        f for f in os.listdir(checkpoint_dir) \n",
    "        if f.startswith('checkpoint_ep')\n",
    "    ])\n",
    "    if not checkpoints:\n",
    "        return 0, {}\n",
    "    \n",
    "    latest = os.path.join(checkpoint_dir, checkpoints[-1])\n",
    "    print(f\"Loading checkpoint: {latest}\")\n",
    "    checkpoint = torch.load(latest)\n",
    "    \n",
    "    trainer.policy_net.load_state_dict(checkpoint['model_state_dict'])\n",
    "    trainer.optimizer.load_state_dict(checkpoint['optimizer_state_dict'])\n",
    "    return checkpoint['episode'], checkpoint['metrics']"
   ]
  },
  {
   "cell_type": "code",
   "metadata": {
    "id": "modified_training"
   },
   "source": [
    "from train import PokerTrainer\n",
    "import numpy as np\n",
    "\n",
    "# Initialize trainer\n",
    "trainer = PokerTrainer(device=\"cuda\")\n",
    "\n",
    "# Training parameters\n",
    "TOTAL_EPISODES = 1000000\n",
    "CHECKPOINT_FREQ = 1000  # Save every 1000 episodes\n",
    "BATCH_SIZE = 256  # Increased for GPU\n",
    "GAMMA = 0.99\n",
    "\n",
    "# Load previous checkpoint if exists\n",
    "start_episode, metrics = load_latest_checkpoint(trainer, CHECKPOINT_DIR)\n",
    "\n",
    "# Training loop with checkpointing\n",
    "try:\n",
    "    for episode in range(start_episode, TOTAL_EPISODES):\n",
    "        # Run episode\n",
    "        episode_reward = trainer.run_episode()\n",
    "        \n",
    "        # Optimize model\n",
    "        loss = trainer.optimize_model(BATCH_SIZE, GAMMA)\n",
    "        \n",
    "        # Update metrics\n",
    "        trainer.episode_rewards.append(episode_reward)\n",
    "        \n",
    "        # Print progress\n",
    "        if episode % 100 == 0:\n",
    "            avg_reward = np.mean(trainer.episode_rewards[-100:])\n",
    "            print(f\"Episode {episode}/{TOTAL_EPISODES} | Avg Reward: {avg_reward:.2f} | Loss: {loss:.4f}\")\n",
    "        \n",
    "        # Save checkpoint\n",
    "        if episode % CHECKPOINT_FREQ == 0:\n",
    "            metrics = {\n",
    "                'episode_rewards': trainer.episode_rewards,\n",
    "                'win_rates': trainer.win_rates,\n",
    "                'nash_distances': trainer.nash_distances\n",
    "            }\n",
    "            save_checkpoint(trainer, episode, metrics, CHECKPOINT_DIR)\n",
    "\n",
    "except KeyboardInterrupt:\n",
    "    print(\"\\nTraining interrupted! Saving checkpoint...\")\n",
    "    save_checkpoint(trainer, episode, metrics, CHECKPOINT_DIR)\n",
    "\n",
    "print(\"Training completed!\")"
   ]
  },
  {
   "cell_type": "markdown",
   "metadata": {},
   "source": [
    "## Training Progress Visualization\n",
    "\n",
    "Run this cell to visualize training metrics:"
   ]
  },
  {
   "cell_type": "code",
   "metadata": {
    "id": "visualize_progress"
   },
   "source": [
    "import matplotlib.pyplot as plt\n",
    "import seaborn as sns\n",
    "\n",
    "# Set style\n",
    "plt.style.use('seaborn')\n",
    "sns.set_palette(\"husl\")\n",
    "\n",
    "# Create figure with subplots\n",
    "fig, (ax1, ax2, ax3) = plt.subplots(3, 1, figsize=(12, 15))\n",
    "\n",
    "# Plot episode rewards\n",
    "ax1.plot(trainer.episode_rewards)\n",
    "ax1.set_title('Episode Rewards')\n",
    "ax1.set_xlabel('Episode')\n",
    "ax1.set_ylabel('Reward')\n",
    "\n",
    "# Plot win rates\n",
    "ax2.plot(trainer.win_rates)\n",
    "ax2.set_title('Win Rates')\n",
    "ax2.set_xlabel('Episode')\n",
    "ax2.set_ylabel('Win Rate')\n",
    "\n",
    "# Plot Nash distances\n",
    "ax3.plot(trainer.nash_distances)\n",
    "ax3.set_title('Nash Distances')\n",
    "ax3.set_xlabel('Episode')\n",
    "ax3.set_ylabel('Distance')\n",
    "\n",
    "plt.tight_layout()\n",
    "plt.show()"
   ]
  }
 ],
 "metadata": {
  "accelerator": "GPU",
  "colab": {
   "collapsed_sections": [],
   "name": "GTDQN_Training.ipynb",
   "provenance": []
  },
  "kernelspec": {
   "display_name": "Python 3",
   "language": "python",
   "name": "python3"
  },
  "language_info": {
   "codemirror_mode": {
    "name": "ipython",
    "version": 3
   },
   "file_extension": ".py",
   "mimetype": "text/x-python",
   "name": "python",
   "nbconvert_exporter": "python",
   "pygments_lexer": "ipython3",
   "version": "3.8.0"
  }
 },
 "nbformat": 4,
 "nbformat_minor": 4
}
