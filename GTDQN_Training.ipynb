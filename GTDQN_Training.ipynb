{
 "cells": [
  {
   "cell_type": "markdown",
   "metadata": {},
   "source": [
    "# GT-DQN Training on Google Colab\n",
    "\n",
    "This notebook runs the GT-DQN poker training on Google Colab's GPU.\n",
    "\n",
    "## Setup Steps:\n",
    "1. Upload this notebook to Google Colab\n",
    "2. Enable GPU: Runtime → Change runtime type → GPU\n",
    "3. Run all cells in order"
   ]
  },
  {
   "cell_type": "code",
   "metadata": {
    "id": "check_gpu"
   },
   "source": [
    "# Verify GPU is available\n",
    "import torch\n",
    "print(f\"GPU available: {torch.cuda.is_available()}\")\n",
    "if torch.cuda.is_available():\n",
    "    print(f\"GPU device: {torch.cuda.get_device_name(0)}\")"
   ]
  },
  {
   "cell_type": "code",
   "metadata": {
    "id": "clone_repo"
   },
   "source": [
    "# Clone repository and install dependencies\n",
    "!git clone https://github.com/antimaf/GTDQN\n",
    "%cd GTDQN\n",
    "!pip install -r requirements.txt"
   ]
  },
  {
   "cell_type": "code",
   "metadata": {
    "id": "setup_drive"
   },
   "source": [
    "# Mount Google Drive for checkpoint saving\n",
    "from google.colab import drive\n",
    "drive.mount('/content/drive')\n",
    "\n",
    "# Set checkpoint directory\n",
    "CHECKPOINT_DIR = '/content/drive/MyDrive/GTDQN_checkpoints'\n",
    "!mkdir -p {CHECKPOINT_DIR}\n",
    "\n",
    "# Update trainer's save directory\n",
    "trainer.save_dir = CHECKPOINT_DIR\n"
   ]
  },
  {
   "cell_type": "code",
   "metadata": {
    "id": "training_utils"
   },
   "source": [
    "import os\n",
    "import time\n",
    "from datetime import datetime\n",
    "\n",
    "def save_checkpoint(trainer, episode, metrics, checkpoint_dir):\n",
    "    \"\"\"Save training checkpoint with metadata\"\"\"\n",
    "    timestamp = datetime.now().strftime('%Y%m%d_%H%M%S')\n",
    "    checkpoint = {\n",
    "        'episode': episode,\n",
    "        'model_state_dict': trainer.policy_net.state_dict(),\n",
    "        'optimizer_state_dict': trainer.optimizer.state_dict(),\n",
    "        'metrics': metrics\n",
    "    }\n",
    "    path = os.path.join(checkpoint_dir, f'checkpoint_ep{episode}_{timestamp}.pt')\n",
    "    torch.save(checkpoint, path)\n",
    "    print(f\"Saved checkpoint at episode {episode} to {path}\")\n",
    "\n",
    "def load_latest_checkpoint(trainer, checkpoint_dir):\n",
    "    \"\"\"Load most recent checkpoint if exists\"\"\"\n",
    "    checkpoints = sorted([\n",
    "        f for f in os.listdir(checkpoint_dir) \n",
    "        if f.startswith('checkpoint_ep')\n",
    "    ])\n",
    "    if not checkpoints:\n",
    "        return 0, {}\n",
    "    \n",
    "    latest = os.path.join(checkpoint_dir, checkpoints[-1])\n",
    "    print(f\"Loading checkpoint: {latest}\")\n",
    "    checkpoint = torch.load(latest)\n",
    "    \n",
    "    trainer.policy_net.load_state_dict(checkpoint['model_state_dict'])\n",
    "    trainer.optimizer.load_state_dict(checkpoint['optimizer_state_dict'])\n",
    "    return checkpoint['episode'], checkpoint['metrics']"
   ]
  },
  {
   "cell_type": "code",
   "metadata": {
    "id": "modified_training"
   },
   "source": [
    "from train import PokerTrainer\n",
    "import numpy as np\n",
    "\n",
    "# Initialize trainer\n",
    "trainer = PokerTrainer(device=\"cuda\")\n",
    "\n",
    "# Training parameters\n",
    "NUM_EPISODES = 1000000\n",
    "BATCH_SIZE = 256  # Increased for GPU\n",
    "GAMMA = 0.99\n",
    "EPSILON_START = 1.0\n",
    "EPSILON_END = 0.01\n",
    "EPSILON_DECAY = 0.995\n",
    "TARGET_UPDATE = 10\n",
    "PRINT_FREQ = 100\n",
    "CHECKPOINT_FREQ = 1000\n",
    "\n",
    "# Start training\n",
    "try:\n",
    "    trainer.train(\n",
    "        num_episodes=NUM_EPISODES,\n",
    "        batch_size=BATCH_SIZE,\n",
    "        gamma=GAMMA,\n",
    "        epsilon_start=EPSILON_START,\n",
    "        epsilon_end=EPSILON_END,\n",
    "        epsilon_decay=EPSILON_DECAY,\n",
    "        target_update=TARGET_UPDATE,\n",
    "        print_freq=PRINT_FREQ,\n",
    "        save_freq=CHECKPOINT_FREQ\n",
    "    )\n",
    "except KeyboardInterrupt:\n",
    "    print(\"\\nTraining interrupted! Saving checkpoint...\")\n",
    "    trainer.save_checkpoint(episode)\n",
    "\n",
    "print(\"Training completed!\")\n"
   ]
  },
  {
   "cell_type": "markdown",
   "metadata": {},
   "source": [
    "## Training Progress Visualization\n",
    "\n",
    "Run this cell to visualize training metrics:"
   ]
  },
  {
   "cell_type": "code",
   "metadata": {
    "id": "visualize_progress"
   },
   "source": [
    "import matplotlib.pyplot as plt\n",
    "import seaborn as sns\n",
    "\n",
    "# Set style\n",
    "plt.style.use('seaborn')\n",
    "sns.set_palette(\"husl\")\n",
    "\n",
    "# Create figure with subplots\n",
    "fig, (ax1, ax2, ax3) = plt.subplots(3, 1, figsize=(12, 15))\n",
    "\n",
    "# Plot episode rewards\n",
    "ax1.plot(trainer.episode_rewards)\n",
    "ax1.set_title('Episode Rewards')\n",
    "ax1.set_xlabel('Episode')\n",
    "ax1.set_ylabel('Reward')\n",
    "\n",
    "# Plot win rates\n",
    "ax2.plot(trainer.win_rates)\n",
    "ax2.set_title('Win Rates')\n",
    "ax2.set_xlabel('Episode')\n",
    "ax2.set_ylabel('Win Rate')\n",
    "\n",
    "# Plot Nash distances\n",
    "ax3.plot(trainer.nash_distances)\n",
    "ax3.set_title('Nash Distances')\n",
    "ax3.set_xlabel('Episode')\n",
    "ax3.set_ylabel('Distance')\n",
    "\n",
    "plt.tight_layout()\n",
    "plt.show()"
   ]
  }
 ],
 "metadata": {
  "accelerator": "GPU",
  "colab": {
   "collapsed_sections": [],
   "name": "GTDQN_Training.ipynb",
   "provenance": []
  },
  "kernelspec": {
   "display_name": "Python 3",
   "language": "python",
   "name": "python3"
  },
  "language_info": {
   "codemirror_mode": {
    "name": "ipython",
    "version": 3
   },
   "file_extension": ".py",
   "mimetype": "text/x-python",
   "name": "python",
   "nbconvert_exporter": "python",
   "pygments_lexer": "ipython3",
   "version": "3.8.0"
  }
 },
 "nbformat": 4,
 "nbformat_minor": 4
}
